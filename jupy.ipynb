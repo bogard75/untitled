{
 "cells": [
  {
   "cell_type": "code",
   "execution_count": null,
   "metadata": {
    "collapsed": true
   },
   "outputs": [],
   "source": [
    "import numpy as np\n",
    "\n",
    "array_dim = 1000\n",
    "point_array = []\n",
    "\n",
    "for i in range(array_dim):\n",
    "    x1 = np.random.normal(0.0, 0.5)\n",
    "    y1 = x1 * 0.1 + 0.3 * np.random.normal(0.0, 0.3)\n",
    "    point_array.append([x1, y1])\n",
    "\n",
    "array_x = [v[0] for v in point_array]\n",
    "array_y = [v[1] for v in point_array]\n",
    "\n",
    "print(point_array)"
   ]
  }
 ],
 "metadata": {
  "kernelspec": {
   "display_name": "Python 2",
   "language": "python",
   "name": "python2"
  },
  "language_info": {
   "codemirror_mode": {
    "name": "ipython",
    "version": 2.0
   },
   "file_extension": ".py",
   "mimetype": "text/x-python",
   "name": "python",
   "nbconvert_exporter": "python",
   "pygments_lexer": "ipython2",
   "version": "2.7.6"
  }
 },
 "nbformat": 4,
 "nbformat_minor": 0
}