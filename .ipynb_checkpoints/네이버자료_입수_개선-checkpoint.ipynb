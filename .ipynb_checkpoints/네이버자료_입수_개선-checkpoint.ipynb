{
 "cells": [
  {
   "cell_type": "code",
   "execution_count": null,
   "metadata": {
    "collapsed": true
   },
   "outputs": [],
   "source": [
    "import numpy as np\n",
    "\n",
    "array_dim = 1000\n",
    "point_array = []\n",
    "\n",
    "for i in range(array_dim):\n",
    "    x1 = np.random.normal(0.0, 0.5)\n",
    "    y1 = x1 * 0.1 + 0.3 * np.random.normal(0.0, 0.3)\n",
    "    point_array.append([x1, y1])\n",
    "\n",
    "array_x = [v[0] for v in point_array]\n",
    "array_y = [v[1] for v in point_array]\n",
    "\n",
    "print(point_array)"
   ]
  },
  {
   "cell_type": "code",
   "execution_count": 35,
   "metadata": {},
   "outputs": [],
   "source": [
    "with open('STOCK_CODE', 'r', encoding='UTF-8') as f:\n",
    "    lines = f.read().splitlines()\n",
    "stocks = [line.split('|')[0] for line in lines]"
   ]
  },
  {
   "cell_type": "code",
   "execution_count": 37,
   "metadata": {},
   "outputs": [
    {
     "data": {
      "text/plain": [
       "2312"
      ]
     },
     "execution_count": 37,
     "metadata": {},
     "output_type": "execute_result"
    }
   ],
   "source": [
    "len(stocks)\n",
    "#list(map(list, zip(*stocks)))"
   ]
  },
  {
   "cell_type": "code",
   "execution_count": 38,
   "metadata": {},
   "outputs": [],
   "source": [
    "import pandas as pd"
   ]
  },
  {
   "cell_type": "code",
   "execution_count": 198,
   "metadata": {},
   "outputs": [],
   "source": [
    "from os import walk\n",
    "\n",
    "path = r'C:\\Users\\taeil\\Documents\\GitHub\\untitled'\n",
    "f = []\n",
    "for (dirpath, dirnames, filenames) in walk(path):\n",
    "    f.extend(filenames)\n",
    "    break\n",
    "    \n",
    "def read_frgn(filename):\n",
    "    df = pd.read_csv(filename, \n",
    "                     sep='|', \n",
    "                     dtype=object, \n",
    "                     names=['입수일시','종목코드','매수구분','거래기관','거래량','_'])\n",
    "    return df\n",
    "\n",
    "# 201712월 frgn → One File로\n",
    "k = [s for s in f if s[:14] == 'out_frgn201712']\n",
    "l = pd.concat(map(read_frgn, k), ignore_index=True).drop_duplicates(keep='first')\n",
    "\n",
    "l.to_csv('out_frgn201712.txt', sep='|', index=None, encoding='UTF-8')"
   ]
  },
  {
   "cell_type": "code",
   "execution_count": 179,
   "metadata": {},
   "outputs": [],
   "source": [
    "\n",
    "m = k1.append(list(l), ignore_index=True).drop_duplicates(keep='first')"
   ]
  },
  {
   "cell_type": "code",
   "execution_count": 188,
   "metadata": {},
   "outputs": [
    {
     "data": {
      "text/html": [
       "<div>\n",
       "<style>\n",
       "    .dataframe thead tr:only-child th {\n",
       "        text-align: right;\n",
       "    }\n",
       "\n",
       "    .dataframe thead th {\n",
       "        text-align: left;\n",
       "    }\n",
       "\n",
       "    .dataframe tbody tr th {\n",
       "        vertical-align: top;\n",
       "    }\n",
       "</style>\n",
       "<table border=\"1\" class=\"dataframe\">\n",
       "  <thead>\n",
       "    <tr style=\"text-align: right;\">\n",
       "      <th></th>\n",
       "      <th>입수일시</th>\n",
       "      <th>종목코드</th>\n",
       "      <th>매수구분</th>\n",
       "      <th>거래기관</th>\n",
       "      <th>거래량</th>\n",
       "      <th>_</th>\n",
       "    </tr>\n",
       "  </thead>\n",
       "  <tbody>\n",
       "    <tr>\n",
       "      <th>0</th>\n",
       "      <td>2017.12.20 기준(장마감)</td>\n",
       "      <td>000030</td>\n",
       "      <td>매도</td>\n",
       "      <td>유안타증권</td>\n",
       "      <td>113,481</td>\n",
       "      <td>NaN</td>\n",
       "    </tr>\n",
       "    <tr>\n",
       "      <th>1</th>\n",
       "      <td>2017.12.20 기준(장마감)</td>\n",
       "      <td>000030</td>\n",
       "      <td>매수</td>\n",
       "      <td>NH투자증권</td>\n",
       "      <td>77,024</td>\n",
       "      <td>NaN</td>\n",
       "    </tr>\n",
       "    <tr>\n",
       "      <th>2</th>\n",
       "      <td>2017.12.20 기준(장마감)</td>\n",
       "      <td>000030</td>\n",
       "      <td>매도</td>\n",
       "      <td>KB증권</td>\n",
       "      <td>89,455</td>\n",
       "      <td>NaN</td>\n",
       "    </tr>\n",
       "    <tr>\n",
       "      <th>3</th>\n",
       "      <td>2017.12.20 기준(장마감)</td>\n",
       "      <td>000030</td>\n",
       "      <td>매수</td>\n",
       "      <td>골드만</td>\n",
       "      <td>76,093</td>\n",
       "      <td>NaN</td>\n",
       "    </tr>\n",
       "    <tr>\n",
       "      <th>4</th>\n",
       "      <td>2017.12.20 기준(장마감)</td>\n",
       "      <td>000030</td>\n",
       "      <td>매도</td>\n",
       "      <td>미래에셋대우</td>\n",
       "      <td>85,858</td>\n",
       "      <td>NaN</td>\n",
       "    </tr>\n",
       "    <tr>\n",
       "      <th>5</th>\n",
       "      <td>2017.12.20 기준(장마감)</td>\n",
       "      <td>000030</td>\n",
       "      <td>매수</td>\n",
       "      <td>미래에셋대우</td>\n",
       "      <td>68,923</td>\n",
       "      <td>NaN</td>\n",
       "    </tr>\n",
       "    <tr>\n",
       "      <th>6</th>\n",
       "      <td>2017.12.20 기준(장마감)</td>\n",
       "      <td>000030</td>\n",
       "      <td>매도</td>\n",
       "      <td>교보</td>\n",
       "      <td>77,018</td>\n",
       "      <td>NaN</td>\n",
       "    </tr>\n",
       "    <tr>\n",
       "      <th>7</th>\n",
       "      <td>2017.12.20 기준(장마감)</td>\n",
       "      <td>000030</td>\n",
       "      <td>매수</td>\n",
       "      <td>하나금융투자</td>\n",
       "      <td>46,332</td>\n",
       "      <td>NaN</td>\n",
       "    </tr>\n",
       "    <tr>\n",
       "      <th>8</th>\n",
       "      <td>2017.12.20 기준(장마감)</td>\n",
       "      <td>000030</td>\n",
       "      <td>매도</td>\n",
       "      <td>키움증권</td>\n",
       "      <td>75,694</td>\n",
       "      <td>NaN</td>\n",
       "    </tr>\n",
       "    <tr>\n",
       "      <th>9</th>\n",
       "      <td>2017.12.20 기준(장마감)</td>\n",
       "      <td>000030</td>\n",
       "      <td>매수</td>\n",
       "      <td>메릴린치</td>\n",
       "      <td>44,801</td>\n",
       "      <td>NaN</td>\n",
       "    </tr>\n",
       "    <tr>\n",
       "      <th>10</th>\n",
       "      <td>2017.12.20 기준(장마감)</td>\n",
       "      <td>000030</td>\n",
       "      <td>매도</td>\n",
       "      <td>외국추정</td>\n",
       "      <td>88,821</td>\n",
       "      <td>NaN</td>\n",
       "    </tr>\n",
       "    <tr>\n",
       "      <th>11</th>\n",
       "      <td>2017.12.20 기준(장마감)</td>\n",
       "      <td>000030</td>\n",
       "      <td>매수</td>\n",
       "      <td>외국추정</td>\n",
       "      <td>124,222</td>\n",
       "      <td>NaN</td>\n",
       "    </tr>\n",
       "  </tbody>\n",
       "</table>\n",
       "</div>"
      ],
      "text/plain": [
       "                  입수일시    종목코드 매수구분    거래기관      거래량    _\n",
       "0   2017.12.20 기준(장마감)  000030   매도   유안타증권  113,481  NaN\n",
       "1   2017.12.20 기준(장마감)  000030   매수  NH투자증권   77,024  NaN\n",
       "2   2017.12.20 기준(장마감)  000030   매도    KB증권   89,455  NaN\n",
       "3   2017.12.20 기준(장마감)  000030   매수     골드만   76,093  NaN\n",
       "4   2017.12.20 기준(장마감)  000030   매도  미래에셋대우   85,858  NaN\n",
       "5   2017.12.20 기준(장마감)  000030   매수  미래에셋대우   68,923  NaN\n",
       "6   2017.12.20 기준(장마감)  000030   매도      교보   77,018  NaN\n",
       "7   2017.12.20 기준(장마감)  000030   매수  하나금융투자   46,332  NaN\n",
       "8   2017.12.20 기준(장마감)  000030   매도    키움증권   75,694  NaN\n",
       "9   2017.12.20 기준(장마감)  000030   매수    메릴린치   44,801  NaN\n",
       "10  2017.12.20 기준(장마감)  000030   매도    외국추정   88,821  NaN\n",
       "11  2017.12.20 기준(장마감)  000030   매수    외국추정  124,222  NaN"
      ]
     },
     "execution_count": 188,
     "metadata": {},
     "output_type": "execute_result"
    }
   ],
   "source": [
    "l"
   ]
  },
  {
   "cell_type": "code",
   "execution_count": 177,
   "metadata": {},
   "outputs": [],
   "source": [
    "k1 = pd.read_csv('out_frgn20171225221610.txt', sep='|', dtype=object, names=['입수일시','종목코드','매수구분','거래기관','거래량','_'])\n",
    "k2 = pd.read_csv('out_frgn20171225230000.txt', sep='|', dtype=object, names=['입수일시','종목코드','매수구분','거래기관','거래량','_'])\n",
    "\n",
    "k3 = k1.append([k2], ignore_index=True).drop_duplicates(keep='first')"
   ]
  },
  {
   "cell_type": "code",
   "execution_count": null,
   "metadata": {
    "collapsed": true
   },
   "outputs": [],
   "source": []
  }
 ],
 "metadata": {
  "kernelspec": {
   "display_name": "Python 3",
   "language": "python",
   "name": "python3"
  },
  "language_info": {
   "codemirror_mode": {
    "name": "ipython",
    "version": 3
   },
   "file_extension": ".py",
   "mimetype": "text/x-python",
   "name": "python",
   "nbconvert_exporter": "python",
   "pygments_lexer": "ipython3",
   "version": "3.6.1"
  }
 },
 "nbformat": 4,
 "nbformat_minor": 1
}
