{
 "cells": [
  {
   "cell_type": "code",
   "execution_count": null,
   "metadata": {
    "collapsed": true
   },
   "outputs": [],
   "source": [
    "import numpy as np\n",
    "\n",
    "array_dim = 1000\n",
    "point_array = []\n",
    "\n",
    "for i in range(array_dim):\n",
    "    x1 = np.random.normal(0.0, 0.5)\n",
    "    y1 = x1 * 0.1 + 0.3 * np.random.normal(0.0, 0.3)\n",
    "    point_array.append([x1, y1])\n",
    "\n",
    "array_x = [v[0] for v in point_array]\n",
    "array_y = [v[1] for v in point_array]\n",
    "\n",
    "print(point_array)"
   ]
  },
  {
   "cell_type": "code",
   "execution_count": 35,
   "metadata": {},
   "outputs": [],
   "source": [
    "with open('STOCK_CODE', 'r', encoding='UTF-8') as f:\n",
    "    lines = f.read().splitlines()\n",
    "stocks = [line.split('|')[0] for line in lines]"
   ]
  },
  {
   "cell_type": "code",
   "execution_count": 37,
   "metadata": {},
   "outputs": [
    {
     "data": {
      "text/plain": [
       "2312"
      ]
     },
     "execution_count": 37,
     "metadata": {},
     "output_type": "execute_result"
    }
   ],
   "source": [
    "len(stocks)\n",
    "#list(map(list, zip(*stocks)))"
   ]
  },
  {
   "cell_type": "code",
   "execution_count": 38,
   "metadata": {},
   "outputs": [],
   "source": [
    "import pandas as pd"
   ]
  },
  {
   "cell_type": "code",
   "execution_count": 198,
   "metadata": {},
   "outputs": [],
   "source": [
    "from os import walk\n",
    "\n",
    "path = r'C:\\Users\\taeil\\Documents\\GitHub\\untitled'\n",
    "f = []\n",
    "for (dirpath, dirnames, filenames) in walk(path):\n",
    "    f.extend(filenames)\n",
    "    break\n",
    "    \n",
    "def read_frgn(filename):\n",
    "    df = pd.read_csv(filename, \n",
    "                     sep='|', \n",
    "                     dtype=object, \n",
    "                     names=['입수일시','종목코드','매수구분','거래기관','거래량','_'])\n",
    "    return df\n",
    "\n",
    "# 201712월 frgn → One File로\n",
    "k = [s for s in f if s[:14] == 'out_frgn201712']\n",
    "l = pd.concat(map(read_frgn, k), ignore_index=True).drop_duplicates(keep='first')\n",
    "\n",
    "l.to_csv('out_frgn201712.txt', sep='|', index=None, encoding='UTF-8')"
   ]
  },
  {
   "cell_type": "code",
   "execution_count": 179,
   "metadata": {},
   "outputs": [],
   "source": [
    "\n",
    "m = k1.append(list(l), ignore_index=True).drop_duplicates(keep='first')"
   ]
  },
  {
   "cell_type": "code",
   "execution_count": 201,
   "metadata": {},
   "outputs": [
    {
     "data": {
      "text/plain": [
       "'C:\\\\Users\\\\taeil\\\\Documents\\\\GitHub\\\\untitled'"
      ]
     },
     "execution_count": 201,
     "metadata": {},
     "output_type": "execute_result"
    }
   ],
   "source": [
    "import os\n",
    "\n",
    "os.getcwd()"
   ]
  },
  {
   "cell_type": "code",
   "execution_count": 177,
   "metadata": {},
   "outputs": [],
   "source": [
    "k1 = pd.read_csv('out_frgn20171225221610.txt', sep='|', dtype=object, names=['입수일시','종목코드','매수구분','거래기관','거래량','_'])\n",
    "k2 = pd.read_csv('out_frgn20171225230000.txt', sep='|', dtype=object, names=['입수일시','종목코드','매수구분','거래기관','거래량','_'])\n",
    "\n",
    "k3 = k1.append([k2], ignore_index=True).drop_duplicates(keep='first')"
   ]
  },
  {
   "cell_type": "code",
   "execution_count": null,
   "metadata": {
    "collapsed": true
   },
   "outputs": [],
   "source": []
  }
 ],
 "metadata": {
  "kernelspec": {
   "display_name": "Python 3",
   "language": "python",
   "name": "python3"
  },
  "language_info": {
   "codemirror_mode": {
    "name": "ipython",
    "version": 3
   },
   "file_extension": ".py",
   "mimetype": "text/x-python",
   "name": "python",
   "nbconvert_exporter": "python",
   "pygments_lexer": "ipython3",
   "version": "3.6.1"
  }
 },
 "nbformat": 4,
 "nbformat_minor": 1
}
