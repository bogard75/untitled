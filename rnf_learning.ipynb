{
  "nbformat": 4,
  "nbformat_minor": 0,
  "metadata": {
    "colab": {
      "name": "rnf_learning.ipynb",
      "provenance": [],
      "collapsed_sections": [],
      "authorship_tag": "ABX9TyPSW9VF1LJPodq0sovu5asq",
      "include_colab_link": true
    },
    "kernelspec": {
      "name": "python3",
      "display_name": "Python 3"
    },
    "language_info": {
      "name": "python"
    }
  },
  "cells": [
    {
      "cell_type": "markdown",
      "metadata": {
        "id": "view-in-github",
        "colab_type": "text"
      },
      "source": [
        "<a href=\"https://colab.research.google.com/github/bogard75/untitled/blob/master/rnf_learning.ipynb\" target=\"_parent\"><img src=\"https://colab.research.google.com/assets/colab-badge.svg\" alt=\"Open In Colab\"/></a>"
      ]
    },
    {
      "cell_type": "code",
      "source": [
        "!pip install tf_slim"
      ],
      "metadata": {
        "colab": {
          "base_uri": "https://localhost:8080/"
        },
        "id": "d142LM6Ee04M",
        "outputId": "87926caf-ebc4-48f1-cbca-77c6b51753d6"
      },
      "execution_count": 3,
      "outputs": [
        {
          "output_type": "stream",
          "name": "stdout",
          "text": [
            "Looking in indexes: https://pypi.org/simple, https://us-python.pkg.dev/colab-wheels/public/simple/\n",
            "Collecting tf_slim\n",
            "  Downloading tf_slim-1.1.0-py2.py3-none-any.whl (352 kB)\n",
            "\u001b[K     |████████████████████████████████| 352 kB 8.0 MB/s \n",
            "\u001b[?25hRequirement already satisfied: absl-py>=0.2.2 in /usr/local/lib/python3.7/dist-packages (from tf_slim) (1.2.0)\n",
            "Installing collected packages: tf-slim\n",
            "Successfully installed tf-slim-1.1.0\n"
          ]
        }
      ]
    },
    {
      "cell_type": "code",
      "execution_count": 18,
      "metadata": {
        "colab": {
          "base_uri": "https://localhost:8080/"
        },
        "id": "ENWUSS5QeAch",
        "outputId": "d7e02140-3ea1-460e-90f6-84fc6238748b"
      },
      "outputs": [
        {
          "output_type": "stream",
          "name": "stdout",
          "text": [
            "WARNING:tensorflow:From /usr/local/lib/python3.7/dist-packages/tensorflow/python/compat/v2_compat.py:107: disable_resource_variables (from tensorflow.python.ops.variable_scope) is deprecated and will be removed in a future version.\n",
            "Instructions for updating:\n",
            "non-resource variables are not supported in the long term\n"
          ]
        },
        {
          "output_type": "stream",
          "name": "stderr",
          "text": [
            "WARNING:tensorflow:From /usr/local/lib/python3.7/dist-packages/tensorflow/python/compat/v2_compat.py:107: disable_resource_variables (from tensorflow.python.ops.variable_scope) is deprecated and will be removed in a future version.\n",
            "Instructions for updating:\n",
            "non-resource variables are not supported in the long term\n"
          ]
        }
      ],
      "source": [
        "import tensorflow.compat.v1 as tf\n",
        "tf.disable_v2_behavior()\n",
        "\n",
        "#import tensorflow.contrib.slim as slim\n",
        "#!pip install tf_slim\n",
        "import tf_slim as slim\n",
        "import numpy as np"
      ]
    },
    {
      "cell_type": "markdown",
      "source": [
        "밴딧"
      ],
      "metadata": {
        "id": "Kzpaoicjf-bT"
      }
    },
    {
      "cell_type": "code",
      "source": [
        "bandit_arms = [0.2, 0, -0.2, -2]\n",
        "num_arms = len(bandit_arms)\n",
        "\n",
        "def pull_bandit(bandit):\n",
        "    #랜덤값 구해서\n",
        "    result = np.random.randn(1)\n",
        "    \n",
        "    if result > bandit:\n",
        "        # 양의 보상\n",
        "        return 1\n",
        "    else:\n",
        "        # 음의 보상\n",
        "        return -1"
      ],
      "metadata": {
        "id": "z8ziOaChePiA"
      },
      "execution_count": 19,
      "outputs": []
    },
    {
      "cell_type": "markdown",
      "source": [
        "에이전트"
      ],
      "metadata": {
        "id": "goy5DG3HflQR"
      }
    },
    {
      "cell_type": "code",
      "source": [
        "tf.get_default_graph()\n",
        "weights = tf.Variable(tf.ones([num_arms]))\n",
        "output = tf.nn.softmax(weights)\n",
        "#print(weights.shape)\n",
        "reward_holder = tf.placeholder(shape=[1], dtype=tf.float32)\n",
        "action_holder = tf.placeholder(shape=[1], dtype=tf.int32)\n",
        "\n",
        "responsible_output = tf.slice(output, action_holder, [1])\n",
        "loss = -(tf.log(responsible_output)*reward_holder)\n",
        "optimizer = tf.train.AdamOptimizer(learning_rate=1e-3)\n",
        "update = optimizer.minimize(loss)\n",
        "\n"
      ],
      "metadata": {
        "colab": {
          "base_uri": "https://localhost:8080/"
        },
        "id": "kH1VWTOWf9c-",
        "outputId": "c698d20b-68aa-48a6-8a82-eb2f2d86c6bd"
      },
      "execution_count": 29,
      "outputs": [
        {
          "output_type": "stream",
          "name": "stdout",
          "text": [
            "(1,)\n"
          ]
        }
      ]
    },
    {
      "cell_type": "markdown",
      "source": [
        "학습시키기"
      ],
      "metadata": {
        "id": "ZVP7OtEvhj7x"
      }
    },
    {
      "cell_type": "code",
      "source": [
        "total_episodes = 10000\n",
        "\n",
        "total_reward = np.zeros(num_arms)\n",
        "\n",
        "init = tf.global_variables_initializer()\n",
        "\n",
        "with tf.Session() as sess:\n",
        "    sess.run(init)\n",
        "    i = 0 \n",
        "    while i < total_episodes:\n",
        "        actions = sess.run(output)\n",
        "        a = np.random.choice(actions, p=actions)\n",
        "        action = np.argmax(actions == a)\n",
        "\n",
        "        reward = pull_bandit(bandit_arms[action])\n",
        "\n",
        "        _, resp, ww = sess.run([update, responsible_output, weights], \\\n",
        "                               feed_dict={reward_holder:[reward], action_holder:[action]})\n",
        "        total_reward[action] += reward\n",
        "        if i % 50 == 0:\n",
        "            print(\"Running reward for the \" + str(num_arms) + \" arms of the bandit: \" + str(total_reward))\n",
        "        i+=1\n",
        "\n",
        "\n",
        "print(\"\\nThe agent thisks arm \" + str(np.argmax(ww)+1) + \" is the most promising .... \")\n",
        "if np.argmax(ww) == np.argmax(-np.array(bandit_arms)):\n",
        "    print(\"...and it was right!\")\n",
        "else:\n",
        "    print(\"...and it was wrong!\")\n"
      ],
      "metadata": {
        "colab": {
          "base_uri": "https://localhost:8080/"
        },
        "id": "gjobBAuxhmQN",
        "outputId": "6347574c-3de3-4722-8199-2f22cdd15c82"
      },
      "execution_count": 24,
      "outputs": [
        {
          "output_type": "stream",
          "name": "stdout",
          "text": [
            "Running reward for the 4 arms of the bandit: [-1.  0.  0.  0.]\n",
            "Running reward for the 4 arms of the bandit: [-6.  3.  4. 14.]\n",
            "Running reward for the 4 arms of the bandit: [-9.  1. 14. 25.]\n",
            "Running reward for the 4 arms of the bandit: [-9.  2. 16. 38.]\n",
            "Running reward for the 4 arms of the bandit: [-6.  7. 15. 53.]\n",
            "Running reward for the 4 arms of the bandit: [-4.  4. 20. 67.]\n",
            "Running reward for the 4 arms of the bandit: [-6.  4. 18. 75.]\n",
            "Running reward for the 4 arms of the bandit: [-7.  7. 20. 87.]\n",
            "Running reward for the 4 arms of the bandit: [-9.  1. 16. 99.]\n",
            "Running reward for the 4 arms of the bandit: [ -8.   3.  16. 118.]\n",
            "Running reward for the 4 arms of the bandit: [ -6.   9.  21. 139.]\n",
            "Running reward for the 4 arms of the bandit: [ -6.  11.  21. 151.]\n",
            "Running reward for the 4 arms of the bandit: [-11.  14.  23. 169.]\n",
            "Running reward for the 4 arms of the bandit: [ -9.  14.  21. 181.]\n",
            "Running reward for the 4 arms of the bandit: [-14.  10.  19. 200.]\n",
            "Running reward for the 4 arms of the bandit: [-14.   9.  18. 214.]\n",
            "Running reward for the 4 arms of the bandit: [-17.  16.  24. 224.]\n",
            "Running reward for the 4 arms of the bandit: [-18.  13.  26. 246.]\n",
            "Running reward for the 4 arms of the bandit: [-21.  15.  30. 261.]\n",
            "Running reward for the 4 arms of the bandit: [-19.  16.  34. 278.]\n",
            "Running reward for the 4 arms of the bandit: [-17.  15.  31. 290.]\n",
            "Running reward for the 4 arms of the bandit: [-14.  16.  35. 308.]\n",
            "Running reward for the 4 arms of the bandit: [-15.  18.  40. 322.]\n",
            "Running reward for the 4 arms of the bandit: [-15.  21.  33. 340.]\n",
            "Running reward for the 4 arms of the bandit: [-15.  22.  38. 358.]\n",
            "Running reward for the 4 arms of the bandit: [-20.  26.  48. 375.]\n",
            "Running reward for the 4 arms of the bandit: [-19.  25.  48. 391.]\n",
            "Running reward for the 4 arms of the bandit: [-21.  27.  44. 409.]\n",
            "Running reward for the 4 arms of the bandit: [-23.  32.  53. 427.]\n",
            "Running reward for the 4 arms of the bandit: [-23.  28.  58. 446.]\n",
            "Running reward for the 4 arms of the bandit: [-21.  28.  56. 466.]\n",
            "Running reward for the 4 arms of the bandit: [-25.  23.  50. 483.]\n",
            "Running reward for the 4 arms of the bandit: [-24.  19.  52. 504.]\n",
            "Running reward for the 4 arms of the bandit: [-27.  17.  50. 529.]\n",
            "Running reward for the 4 arms of the bandit: [-29.  17.  56. 555.]\n",
            "Running reward for the 4 arms of the bandit: [-30.  14.  51. 580.]\n",
            "Running reward for the 4 arms of the bandit: [-28.  15.  56. 606.]\n",
            "Running reward for the 4 arms of the bandit: [-32.  19.  60. 630.]\n",
            "Running reward for the 4 arms of the bandit: [-35.  26.  60. 658.]\n",
            "Running reward for the 4 arms of the bandit: [-36.  19.  61. 681.]\n",
            "Running reward for the 4 arms of the bandit: [-38.  17.  67. 709.]\n",
            "Running reward for the 4 arms of the bandit: [-41.  21.  68. 737.]\n",
            "Running reward for the 4 arms of the bandit: [-43.  24.  68. 768.]\n",
            "Running reward for the 4 arms of the bandit: [-42.  25.  69. 793.]\n",
            "Running reward for the 4 arms of the bandit: [-41.  26.  69. 821.]\n",
            "Running reward for the 4 arms of the bandit: [-43.  27.  70. 851.]\n",
            "Running reward for the 4 arms of the bandit: [-44.  28.  72. 883.]\n",
            "Running reward for the 4 arms of the bandit: [-41.  32.  79. 909.]\n",
            "Running reward for the 4 arms of the bandit: [-41.  33.  87. 936.]\n",
            "Running reward for the 4 arms of the bandit: [-43.  36.  93. 961.]\n",
            "Running reward for the 4 arms of the bandit: [-44.  36.  94. 989.]\n",
            "Running reward for the 4 arms of the bandit: [ -42.   34.   99. 1008.]\n",
            "Running reward for the 4 arms of the bandit: [ -41.   32.   97. 1031.]\n",
            "Running reward for the 4 arms of the bandit: [ -43.   34.  103. 1055.]\n",
            "Running reward for the 4 arms of the bandit: [ -36.   35.   99. 1087.]\n",
            "Running reward for the 4 arms of the bandit: [ -37.   34.  104. 1116.]\n",
            "Running reward for the 4 arms of the bandit: [ -38.   33.  107. 1151.]\n",
            "Running reward for the 4 arms of the bandit: [ -38.   35.  107. 1183.]\n",
            "Running reward for the 4 arms of the bandit: [ -36.   35.  107. 1213.]\n",
            "Running reward for the 4 arms of the bandit: [ -36.   41.  107. 1243.]\n",
            "Running reward for the 4 arms of the bandit: [ -36.   41.  107. 1275.]\n",
            "Running reward for the 4 arms of the bandit: [ -37.   42.  108. 1308.]\n",
            "Running reward for the 4 arms of the bandit: [ -37.   43.  111. 1334.]\n",
            "Running reward for the 4 arms of the bandit: [ -35.   39.  112. 1363.]\n",
            "Running reward for the 4 arms of the bandit: [ -32.   41.  114. 1394.]\n",
            "Running reward for the 4 arms of the bandit: [ -34.   42.  118. 1425.]\n",
            "Running reward for the 4 arms of the bandit: [ -32.   40.  123. 1458.]\n",
            "Running reward for the 4 arms of the bandit: [ -30.   36.  127. 1490.]\n",
            "Running reward for the 4 arms of the bandit: [ -30.   35.  126. 1522.]\n",
            "Running reward for the 4 arms of the bandit: [ -29.   32.  130. 1554.]\n",
            "Running reward for the 4 arms of the bandit: [ -29.   28.  129. 1583.]\n",
            "Running reward for the 4 arms of the bandit: [ -30.   27.  133. 1619.]\n",
            "Running reward for the 4 arms of the bandit: [ -31.   24.  129. 1651.]\n",
            "Running reward for the 4 arms of the bandit: [ -27.   20.  129. 1687.]\n",
            "Running reward for the 4 arms of the bandit: [ -28.   19.  132. 1720.]\n",
            "Running reward for the 4 arms of the bandit: [ -26.   20.  131. 1758.]\n",
            "Running reward for the 4 arms of the bandit: [ -25.   20.  133. 1797.]\n",
            "Running reward for the 4 arms of the bandit: [ -29.   22.  135. 1833.]\n",
            "Running reward for the 4 arms of the bandit: [ -29.   19.  133. 1868.]\n",
            "Running reward for the 4 arms of the bandit: [ -29.   19.  134. 1901.]\n",
            "Running reward for the 4 arms of the bandit: [ -29.   18.  135. 1941.]\n",
            "Running reward for the 4 arms of the bandit: [ -25.   18.  134. 1980.]\n",
            "Running reward for the 4 arms of the bandit: [ -25.   18.  135. 2015.]\n",
            "Running reward for the 4 arms of the bandit: [ -22.   18.  139. 2052.]\n",
            "Running reward for the 4 arms of the bandit: [ -22.   17.  140. 2092.]\n",
            "Running reward for the 4 arms of the bandit: [ -25.   17.  140. 2131.]\n",
            "Running reward for the 4 arms of the bandit: [ -25.   16.  141. 2165.]\n",
            "Running reward for the 4 arms of the bandit: [ -26.   16.  144. 2197.]\n",
            "Running reward for the 4 arms of the bandit: [ -26.   13.  146. 2236.]\n",
            "Running reward for the 4 arms of the bandit: [ -25.   13.  147. 2274.]\n",
            "Running reward for the 4 arms of the bandit: [ -27.   14.  149. 2309.]\n",
            "Running reward for the 4 arms of the bandit: [ -28.   15.  153. 2343.]\n",
            "Running reward for the 4 arms of the bandit: [ -26.   13.  152. 2380.]\n",
            "Running reward for the 4 arms of the bandit: [ -29.   14.  154. 2416.]\n",
            "Running reward for the 4 arms of the bandit: [ -26.   14.  152. 2455.]\n",
            "Running reward for the 4 arms of the bandit: [ -26.   13.  153. 2495.]\n",
            "Running reward for the 4 arms of the bandit: [ -28.   13.  152. 2536.]\n",
            "Running reward for the 4 arms of the bandit: [ -28.   14.  152. 2575.]\n",
            "Running reward for the 4 arms of the bandit: [ -28.   17.  155. 2613.]\n",
            "Running reward for the 4 arms of the bandit: [ -27.   17.  155. 2658.]\n",
            "Running reward for the 4 arms of the bandit: [ -28.   15.  157. 2695.]\n",
            "Running reward for the 4 arms of the bandit: [ -29.   15.  156. 2737.]\n",
            "Running reward for the 4 arms of the bandit: [ -25.   17.  156. 2775.]\n",
            "Running reward for the 4 arms of the bandit: [ -25.   20.  154. 2814.]\n",
            "Running reward for the 4 arms of the bandit: [ -25.   19.  157. 2852.]\n",
            "Running reward for the 4 arms of the bandit: [ -28.   20.  158. 2893.]\n",
            "Running reward for the 4 arms of the bandit: [ -30.   19.  158. 2936.]\n",
            "Running reward for the 4 arms of the bandit: [ -26.   20.  158. 2975.]\n",
            "Running reward for the 4 arms of the bandit: [ -25.   18.  159. 3017.]\n",
            "Running reward for the 4 arms of the bandit: [ -28.   19.  157. 3059.]\n",
            "Running reward for the 4 arms of the bandit: [ -29.   23.  158. 3095.]\n",
            "Running reward for the 4 arms of the bandit: [ -29.   23.  159. 3132.]\n",
            "Running reward for the 4 arms of the bandit: [ -30.   27.  160. 3172.]\n",
            "Running reward for the 4 arms of the bandit: [ -32.   27.  162. 3212.]\n",
            "Running reward for the 4 arms of the bandit: [ -32.   25.  165. 3249.]\n",
            "Running reward for the 4 arms of the bandit: [ -36.   23.  166. 3288.]\n",
            "Running reward for the 4 arms of the bandit: [ -36.   24.  165. 3330.]\n",
            "Running reward for the 4 arms of the bandit: [ -34.   25.  165. 3371.]\n",
            "Running reward for the 4 arms of the bandit: [ -34.   27.  166. 3414.]\n",
            "Running reward for the 4 arms of the bandit: [ -32.   26.  167. 3448.]\n",
            "Running reward for the 4 arms of the bandit: [ -32.   32.  167. 3488.]\n",
            "Running reward for the 4 arms of the bandit: [ -33.   32.  167. 3533.]\n",
            "Running reward for the 4 arms of the bandit: [ -31.   34.  167. 3575.]\n",
            "Running reward for the 4 arms of the bandit: [ -31.   35.  165. 3618.]\n",
            "Running reward for the 4 arms of the bandit: [ -32.   35.  165. 3665.]\n",
            "Running reward for the 4 arms of the bandit: [ -34.   35.  166. 3706.]\n",
            "Running reward for the 4 arms of the bandit: [ -32.   35.  168. 3748.]\n",
            "Running reward for the 4 arms of the bandit: [ -32.   36.  171. 3792.]\n",
            "Running reward for the 4 arms of the bandit: [ -31.   35.  171. 3836.]\n",
            "Running reward for the 4 arms of the bandit: [ -30.   35.  170. 3876.]\n",
            "Running reward for the 4 arms of the bandit: [ -31.   35.  169. 3922.]\n",
            "Running reward for the 4 arms of the bandit: [ -30.   36.  169. 3960.]\n",
            "Running reward for the 4 arms of the bandit: [ -29.   36.  170. 4006.]\n",
            "Running reward for the 4 arms of the bandit: [ -29.   36.  170. 4050.]\n",
            "Running reward for the 4 arms of the bandit: [ -29.   35.  171. 4092.]\n",
            "Running reward for the 4 arms of the bandit: [ -31.   35.  170. 4133.]\n",
            "Running reward for the 4 arms of the bandit: [ -32.   38.  169. 4174.]\n",
            "Running reward for the 4 arms of the bandit: [ -30.   38.  167. 4216.]\n",
            "Running reward for the 4 arms of the bandit: [ -29.   37.  166. 4259.]\n",
            "Running reward for the 4 arms of the bandit: [ -29.   38.  167. 4303.]\n",
            "Running reward for the 4 arms of the bandit: [ -27.   36.  169. 4345.]\n",
            "Running reward for the 4 arms of the bandit: [ -29.   34.  169. 4389.]\n",
            "Running reward for the 4 arms of the bandit: [ -29.   32.  170. 4432.]\n",
            "Running reward for the 4 arms of the bandit: [ -30.   32.  171. 4476.]\n",
            "Running reward for the 4 arms of the bandit: [ -30.   33.  172. 4522.]\n",
            "Running reward for the 4 arms of the bandit: [ -30.   35.  172. 4568.]\n",
            "Running reward for the 4 arms of the bandit: [ -30.   33.  172. 4612.]\n",
            "Running reward for the 4 arms of the bandit: [ -31.   32.  172. 4654.]\n",
            "Running reward for the 4 arms of the bandit: [ -31.   32.  172. 4704.]\n",
            "Running reward for the 4 arms of the bandit: [ -29.   31.  173. 4748.]\n",
            "Running reward for the 4 arms of the bandit: [ -31.   30.  172. 4790.]\n",
            "Running reward for the 4 arms of the bandit: [ -31.   29.  171. 4832.]\n",
            "Running reward for the 4 arms of the bandit: [ -30.   29.  173. 4877.]\n",
            "Running reward for the 4 arms of the bandit: [ -32.   31.  173. 4921.]\n",
            "Running reward for the 4 arms of the bandit: [ -31.   31.  174. 4965.]\n",
            "Running reward for the 4 arms of the bandit: [ -31.   32.  177. 5001.]\n",
            "Running reward for the 4 arms of the bandit: [ -33.   32.  178. 5044.]\n",
            "Running reward for the 4 arms of the bandit: [ -34.   32.  177. 5086.]\n",
            "Running reward for the 4 arms of the bandit: [ -35.   32.  177. 5123.]\n",
            "Running reward for the 4 arms of the bandit: [ -37.   34.  176. 5168.]\n",
            "Running reward for the 4 arms of the bandit: [ -37.   35.  178. 5213.]\n",
            "Running reward for the 4 arms of the bandit: [ -37.   34.  179. 5259.]\n",
            "Running reward for the 4 arms of the bandit: [ -36.   34.  179. 5304.]\n",
            "Running reward for the 4 arms of the bandit: [ -36.   34.  178. 5351.]\n",
            "Running reward for the 4 arms of the bandit: [ -35.   35.  178. 5397.]\n",
            "Running reward for the 4 arms of the bandit: [ -35.   36.  178. 5440.]\n",
            "Running reward for the 4 arms of the bandit: [ -33.   36.  177. 5483.]\n",
            "Running reward for the 4 arms of the bandit: [ -34.   36.  178. 5523.]\n",
            "Running reward for the 4 arms of the bandit: [ -33.   36.  178. 5564.]\n",
            "Running reward for the 4 arms of the bandit: [ -34.   36.  181. 5606.]\n",
            "Running reward for the 4 arms of the bandit: [ -32.   37.  178. 5648.]\n",
            "Running reward for the 4 arms of the bandit: [ -30.   35.  176. 5690.]\n",
            "Running reward for the 4 arms of the bandit: [ -30.   35.  179. 5735.]\n",
            "Running reward for the 4 arms of the bandit: [ -30.   36.  179. 5780.]\n",
            "Running reward for the 4 arms of the bandit: [ -31.   37.  179. 5828.]\n",
            "Running reward for the 4 arms of the bandit: [ -31.   36.  180. 5872.]\n",
            "Running reward for the 4 arms of the bandit: [ -30.   37.  180. 5920.]\n",
            "Running reward for the 4 arms of the bandit: [ -30.   38.  180. 5963.]\n",
            "Running reward for the 4 arms of the bandit: [ -29.   37.  180. 6001.]\n",
            "Running reward for the 4 arms of the bandit: [ -29.   36.  181. 6045.]\n",
            "Running reward for the 4 arms of the bandit: [ -29.   35.  181. 6092.]\n",
            "Running reward for the 4 arms of the bandit: [ -29.   35.  182. 6139.]\n",
            "Running reward for the 4 arms of the bandit: [ -29.   35.  182. 6189.]\n",
            "Running reward for the 4 arms of the bandit: [ -30.   35.  182. 6232.]\n",
            "Running reward for the 4 arms of the bandit: [ -30.   35.  183. 6281.]\n",
            "Running reward for the 4 arms of the bandit: [ -30.   35.  183. 6327.]\n",
            "Running reward for the 4 arms of the bandit: [ -30.   35.  182. 6374.]\n",
            "Running reward for the 4 arms of the bandit: [ -30.   34.  183. 6418.]\n",
            "Running reward for the 4 arms of the bandit: [ -30.   33.  183. 6465.]\n",
            "Running reward for the 4 arms of the bandit: [ -31.   33.  183. 6510.]\n",
            "Running reward for the 4 arms of the bandit: [ -31.   34.  183. 6557.]\n",
            "Running reward for the 4 arms of the bandit: [ -31.   35.  184. 6603.]\n",
            "Running reward for the 4 arms of the bandit: [ -31.   33.  185. 6644.]\n",
            "Running reward for the 4 arms of the bandit: [ -31.   32.  185. 6689.]\n",
            "Running reward for the 4 arms of the bandit: [ -31.   31.  185. 6734.]\n",
            "Running reward for the 4 arms of the bandit: [ -31.   31.  185. 6780.]\n",
            "Running reward for the 4 arms of the bandit: [ -32.   30.  185. 6828.]\n",
            "Running reward for the 4 arms of the bandit: [ -33.   30.  184. 6876.]\n",
            "Running reward for the 4 arms of the bandit: [ -34.   29.  183. 6919.]\n",
            "Running reward for the 4 arms of the bandit: [ -34.   28.  183. 6968.]\n",
            "\n",
            "The agent thisks arm 4 is the most promising .... \n",
            "...and it was right!\n"
          ]
        }
      ]
    }
  ]
}